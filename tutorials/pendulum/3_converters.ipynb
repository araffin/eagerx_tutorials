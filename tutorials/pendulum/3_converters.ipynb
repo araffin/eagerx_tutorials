{
 "cells": [
  {
   "cell_type": "markdown",
   "id": "ac5c1648-6268-4829-bbaf-53ef779bd1a0",
   "metadata": {},
   "source": [
    "# Tutorial 3: Converters\n",
    "\n",
    "In this tutorial, we will discuss [converters](https://eagerx.readthedocs.io/en/master/guide/api_reference/converter/index.html).\n",
    "\n",
    "The following will be covered:\n",
    "- The three different converters, i.e. [SpaceConverter](https://eagerx.readthedocs.io/en/master/guide/api_reference/converter/space_converter.html), [Processor](https://eagerx.readthedocs.io/en/master/guide/api_reference/converter/processor.html) and [Converter](https://eagerx.readthedocs.io/en/master/guide/api_reference/converter/converter.html)\n",
    "- Specifying the parameters of converters\n",
    "- Creating a custom [SpaceConverter](https://eagerx.readthedocs.io/en/master/guide/api_reference/converter/space_converter.html)\n",
    "\n",
    "In the remainder of this tutorial we will go more into detail on these concepts.\n",
    "\n",
    "Furthermore, at the end of this notebook you will find exercises.\n",
    "For the exercises you will have to add/modify a couple of lines of code, which are marked by\n",
    "\n",
    "```python\n",
    "\n",
    "# START EXERCISE [BLOCK_NUMBER]\n",
    "\n",
    "# END EXERCISE [BLOCK_NUMBER]\n",
    "```\n",
    "\n",
    "## Pendulum Swing-up\n",
    "\n",
    "We will create an environment for solving the classic control problem of swinging up an underactuated pendulum, very similar to the [Pendulum-v1 environment](https://www.gymlibrary.ml/environments/classic_control/pendulum/).\n",
    "Our goal is to swing up this pendulum to the upright position and keep it there, while minimizing the velocity of the pendulum and the input voltage.\n",
    "\n",
    "Since the dynamics of a pendulum actuated by a DC motor are well known, we can simulate the pendulum by integrating the corresponding ordinary differential equations (ODEs):\n",
    "\n",
    "\n",
    "$\\mathbf{x} = \\begin{bmatrix} \\theta \\\\ \\dot{\\theta} \\end{bmatrix} \\\\ \\dot{\\mathbf{x}} = \\begin{bmatrix} \\dot{\\theta} \\\\ \\frac{1}{J}(\\frac{K}{R}u - mgl \\sin{\\theta} - b \\dot{\\theta} - \\frac{K^2}{R}\\dot{\\theta})\\end{bmatrix}$\n",
    "\n",
    "with $\\theta$ the angle w.r.t. upright position, $\\dot{\\theta}$ the angular velocity, $u$ the input voltage, $J$ the inertia, $m$ the mass, $g$ the gravitational constant, $l$ the length of the pendulum, $b$ the motor viscous friction constant, $K$ the motor constant and $R$ the electric resistance.\n",
    "\n",
    "## Notebook Setup\n",
    "\n",
    "In order to be able to run the code, we need to install the *eagerx_tutorials* package and ROS."
   ]
  },
  {
   "cell_type": "code",
   "execution_count": null,
   "id": "ca8b6d03-40d4-4b45-92b2-61ffa09a3249",
   "metadata": {},
   "outputs": [],
   "source": [
    "try:\n",
    "    import eagerx_tutorials\n",
    "except ImportError:\n",
    "    !{\"echo 'Installing eagerx-tutorials with pip.' && pip install eagerx-tutorials >> /tmp/eagerx_install.txt 2>&1\"}\n",
    "if 'google.colab' in str(get_ipython()):\n",
    "    !{\"curl 'https://raw.githubusercontent.com/eager-dev/eagerx_tutorials/master/scripts/setup_colab.sh' > ~/setup_colab.sh\"}\n",
    "    !{\"bash ~/setup_colab.sh\"}\n",
    "\n",
    "# Setup interactive notebook\n",
    "# Required in interactive notebooks only.\n",
    "from eagerx_tutorials import helper\n",
    "helper.setup_notebook()\n",
    "env = None\n",
    "\n",
    "# Allows reloading of registered entites from changed files\n",
    "# Required in interactive notebooks only.\n",
    "%reload_ext autoreload\n",
    "%autoreload 1"
   ]
  },
  {
   "cell_type": "markdown",
   "id": "320d7676-c74e-4760-932e-4a347d7cfc5c",
   "metadata": {},
   "source": [
    "## Let's get started\n",
    "\n",
    "We start by importing the required packages and initializing EAGERx."
   ]
  },
  {
   "cell_type": "code",
   "execution_count": null,
   "id": "da87b514-cde8-4ff3-968b-718fe1b5c38c",
   "metadata": {},
   "outputs": [],
   "source": [
    "import eagerx\n",
    "import eagerx_tutorials.pendulum  # Registers Pendulum\n",
    "import eagerx_ode  # Registers OdeBridge\n",
    "\n",
    "# Initialize eagerx (starts roscore if not already started.)\n",
    "eagerx.initialize(\"eagerx_core\")"
   ]
  },
  {
   "cell_type": "markdown",
   "id": "6097aae2-5518-41b2-8d13-9b345ef9777f",
   "metadata": {},
   "source": [
    "We will again create an environment with the *Pendulum* object, like we did in the [first](https://colab.research.google.com/github/eager-dev/eagerx_tutorials/blob/master/tutorials/pendulum/1_environment_creation.ipynb) and [second](https://colab.research.google.com/github/eager-dev/eagerx_tutorials/blob/master/tutorials/pendulum/2_reset_and_step.ipynb) tutorials.\n",
    "However, first we would like to clarify the converter types of EAGERx, i.e. [Converter](https://eagerx.readthedocs.io/en/master/guide/api_reference/converter/converter.html), [SpaceConverter](https://eagerx.readthedocs.io/en/master/guide/api_reference/converter/space_converter.html) and [Processor](https://eagerx.readthedocs.io/en/master/guide/api_reference/converter/processor.html).\n",
    "The [Converter](https://eagerx.readthedocs.io/en/master/guide/api_reference/converter/converter.html) allows to convert messages from one message type into another.\n",
    "The [SpaceConverter](https://eagerx.readthedocs.io/en/master/guide/api_reference/converter/space_converter.html) allows to connect entities to actions and observations and create the appropriate [Gym spaces](https://gym.openai.com/docs/#spaces).\n",
    "Finally, the [Processor](https://eagerx.readthedocs.io/en/master/guide/api_reference/converter/processor.html) allows to convert messages without changing the message type.\n",
    "\n",
    "Let's go the *Pendulum* object to explain this.\n",
    "Remember that we can print information of an object as follows:"
   ]
  },
  {
   "cell_type": "code",
   "execution_count": null,
   "id": "60d2aed5-3b5e-4d8c-b528-3ed5cc578b26",
   "metadata": {},
   "outputs": [],
   "source": [
    "eagerx.Object.info(\"Pendulum\")"
   ]
  },
  {
   "cell_type": "markdown",
   "id": "f53364d3-559e-4271-817a-bfd0f6120796",
   "metadata": {},
   "source": [
    "The printed info shows, amongst other things, the sensors, actuators and states of the *Pendulum* and their corresponding message types.\n",
    "For example, the sensor *theta* has message type [Float32](http://docs.ros.org/en/melodic/api/std_msgs/html/msg/Float32.html), while the sensor *Image* has message type [Image](http://docs.ros.org/en/noetic/api/sensor_msgs/html/msg/Image.html).\n",
    "When creating connections in the [graph](https://eagerx.readthedocs.io/en/master/guide/api_reference/graph/graph.html?highlight=graph) we should make sure that the correct message types are sent and received.\n",
    "By using converters, we can ensure that data is received in each callback with the correct message type and format.\n",
    "\n",
    "Converters can be specified during connection through the argument `converter` in the [connect method](https://eagerx.readthedocs.io/en/master/guide/api_reference/graph/graph.html#eagerx.core.graph.Graph.connect), but they can also be specified in the object definition.\n",
    "Doing the latter for space converters makes sense for sensors and actuators, because it eases connecting them to observations and actions, respectively.\n",
    "\n",
    "Let's make the *Pendulum* object and inspect the space converter we have defined for the sensor *theta*."
   ]
  },
  {
   "cell_type": "code",
   "execution_count": null,
   "id": "26e7eb3f-a424-4c8b-b477-aad5372feac4",
   "metadata": {},
   "outputs": [],
   "source": [
    "pendulum = eagerx.Object.make(\"Pendulum\", \"pendulum\", actuators=[\"u\"], sensors=[\"theta\", \"dtheta\", \"image\"], states=[\"model_state\"])\n",
    "pendulum.sensors.theta"
   ]
  },
  {
   "cell_type": "markdown",
   "id": "94f3ab90-fe63-4642-afdf-fca6d0ce559d",
   "metadata": {},
   "source": [
    "Here we see that the space converter *Space_Float32* is specified for the sensor *theta*, which allows to go from a Gym `Box` space to a `Float32` message and the other way around.\n",
    "These values can be modified easily."
   ]
  },
  {
   "cell_type": "code",
   "execution_count": null,
   "id": "3a61c139-95d8-4354-90f7-0afb7e06a848",
   "metadata": {},
   "outputs": [],
   "source": [
    "pendulum.sensors.theta.space_converter.low = -10\n",
    "pendulum.sensors.theta.space_converter.high = 10\n",
    "pendulum.sensors.theta"
   ]
  },
  {
   "cell_type": "markdown",
   "id": "711b3038-799c-4932-90ab-323e026033f6",
   "metadata": {},
   "source": [
    "However, this space converter is not ideal when dealing with unnormalized angles.\n",
    "Namely, we can reduce the observation space by normalizing the angle to $-\\pi \\le \\theta < \\pi$ before providing it to the agent.\n",
    "So let's create our own space converter that does exactly this.\n",
    "\n",
    "We can create a space converter by inheriting from the class [SpaceConverter](https://eagerx.readthedocs.io/en/master/guide/api_reference/converter/space_converter.html).\n",
    "This class has the following abstract methods we need to implement:\n",
    "\n",
    "- [spec()](https://eagerx.readthedocs.io/en/master/guide/api_reference/converter/space_converter.html#eagerx.core.entities.SpaceConverter.spec): Specifies the parameters of the space converter.\n",
    "- [initialize()](https://eagerx.readthedocs.io/en/master/guide/api_reference/converter/space_converter.html#eagerx.core.entities.SpaceConverter.initialize): Initializes the space converter.\n",
    "- [A_to_B()](https://eagerx.readthedocs.io/en/master/guide/api_reference/converter/space_converter.html#eagerx.core.entities.SpaceConverter.A_to_B): Converts MSG_TYPE_A to MSG_TYPE_B.\n",
    "- [B_to_A()](https://eagerx.readthedocs.io/en/master/guide/api_reference/converter/space_converter.html#eagerx.core.entities.SpaceConverter.B_to_A): Converts MSG_TYPE_B to MSG_TYPE_A\n",
    "- [get_space()](https://eagerx.readthedocs.io/en/master/guide/api_reference/converter/space_converter.html#eagerx.core.entities.SpaceConverter.get_space): Returns Gym Space.\n",
    "\n",
    "and the following class properties should be set:\n",
    "\n",
    "- MSG_TYPE_A\n",
    "- MSG_TYPE_B"
   ]
  },
  {
   "cell_type": "code",
   "execution_count": null,
   "id": "ce40c187-9a58-4ccd-a52e-852f6b05566c",
   "metadata": {},
   "outputs": [],
   "source": [
    "%%writefile space_converter.py\n",
    "\n",
    "# ROS IMPORTS\n",
    "from std_msgs.msg import Float32\n",
    "\n",
    "# EAGERX IMPORTS\n",
    "import eagerx\n",
    "from eagerx.core.specs import ConverterSpec\n",
    "\n",
    "# OTHER\n",
    "import numpy as np\n",
    "from gym.spaces import Box\n",
    "\n",
    "\n",
    "class ExampleSpaceConverter(eagerx.SpaceConverter):\n",
    "    MSG_TYPE_A = np.ndarray\n",
    "    MSG_TYPE_B = Float32\n",
    "\n",
    "    @staticmethod\n",
    "    @eagerx.register.spec(\"ExampleSpaceConverter\", eagerx.SpaceConverter)\n",
    "    def spec(spec: ConverterSpec, low=None, high=None, dtype=\"float32\"):\n",
    "        # Initialize spec with default arguments\n",
    "        spec.initialize(ExampleSpaceConverter)\n",
    "        spec.config.update(low=low, high=high, dtype=dtype)\n",
    "\n",
    "    def initialize(self, low=None, high=None, dtype=\"float32\"):\n",
    "        self.low = np.array(low, dtype=dtype)\n",
    "        self.high = np.array(high, dtype=dtype)\n",
    "        self.dtype = dtype\n",
    "\n",
    "    def get_space(self):\n",
    "        return Box(self.low, self.high, dtype=self.dtype)\n",
    "\n",
    "    def A_to_B(self, msg):\n",
    "        # In this example we only care about going from Float32 to ndarray\n",
    "        raise NotImplementedError()\n",
    "\n",
    "    def B_to_A(self, msg_b):\n",
    "        th = msg_b.data\n",
    "        \n",
    "        # START EXERCISE 1.1\n",
    "        # th -= 2 * np.pi * np.floor((th + np.pi) / (2 * np.pi))\n",
    "        msg_a = np.array([np.sin(th), np.cos(th)], dtype=self.dtype)\n",
    "        # END EXERCISE 1.1\n",
    "        \n",
    "        return msg_a"
   ]
  },
  {
   "cell_type": "markdown",
   "id": "0a3bb032-7234-4174-8046-759ddc77edd5",
   "metadata": {},
   "source": [
    "We can make this space converter similar to the way we make objects and add it to the *theta* sensor:"
   ]
  },
  {
   "cell_type": "code",
   "execution_count": null,
   "id": "32c67cc2-5d92-4518-9cdc-eec5aa259f3f",
   "metadata": {},
   "outputs": [],
   "source": [
    "%aimport space_converter\n",
    "import space_converter\n",
    "import numpy as np\n",
    "\n",
    "# START EXERCISE 1.2\n",
    "space_converter = eagerx.SpaceConverter.make(\"ExampleSpaceConverter\", low=[-1, -1], high=[1, 1])\n",
    "# END EXERCISE 1.2\n",
    "\n",
    "pendulum.sensors.theta.space_converter = space_converter"
   ]
  },
  {
   "cell_type": "markdown",
   "id": "b1c3b92d-4dac-4808-a2c6-19a0ea65d33e",
   "metadata": {},
   "source": [
    "Next we will construct the graph with the *Pendulum* similar to the previous tutorials."
   ]
  },
  {
   "cell_type": "code",
   "execution_count": null,
   "id": "d9c9f940-0c44-46e6-bde8-081fceafcd0c",
   "metadata": {},
   "outputs": [],
   "source": [
    "# Define rate in Hz\n",
    "rate = 30.0\n",
    "\n",
    "# Initialize empty graph\n",
    "graph = eagerx.Graph.create()\n",
    "\n",
    "# Add pendulum to the graph\n",
    "graph.add(pendulum)\n",
    "\n",
    "# Connect the pendulum to an action and observation\n",
    "# We will now explicitly set the window size\n",
    "graph.connect(action=\"voltage\", target=pendulum.actuators.u, window=1)\n",
    "graph.connect(source=pendulum.sensors.theta, observation=\"angle\", window=1)\n",
    "graph.connect(source=pendulum.sensors.dtheta, observation=\"angular_velocity\", window=1)\n",
    "\n",
    "# Render image\n",
    "graph.render(source=pendulum.sensors.image, rate=rate)\n",
    "\n",
    "# Make OdeBridge\n",
    "bridge = eagerx.Bridge.make(\"OdeBridge\", rate=rate)"
   ]
  },
  {
   "cell_type": "markdown",
   "id": "8247297a-b0b2-4074-ab71-b86d29819606",
   "metadata": {},
   "source": [
    "Finally, we will initialize the environment and train the agent using [Stable Baselines3](https://stable-baselines3.readthedocs.io/en/master/), again similar to the first two tutorials."
   ]
  },
  {
   "cell_type": "code",
   "execution_count": null,
   "id": "cb6051ef-ce35-4eea-95e2-a96d1f68bde2",
   "metadata": {},
   "outputs": [],
   "source": [
    "from typing import Dict\n",
    "import stable_baselines3 as sb\n",
    "from stable_baselines3.common.env_checker import check_env\n",
    "from eagerx.wrappers import Flatten\n",
    "\n",
    "\n",
    "# Define step function\n",
    "def step_fn(prev_obs: Dict[str, np.ndarray], obs: Dict[str, np.ndarray], action: Dict[str, np.ndarray], steps: int):\n",
    "    \n",
    "    # Get angle and angular velocity\n",
    "    # Take first element because of window size (covered in other tutorial)\n",
    "    \n",
    "    # START EXERCISE 1.3\n",
    "    sin_th, cos_th = obs[\"angle\"][0]\n",
    "    th = np.arctan2(sin_th, cos_th)\n",
    "    # END EXERCISE 1.3\n",
    "    \n",
    "    thdot = obs[\"angular_velocity\"][0]\n",
    "    \n",
    "    # Convert from numpy array to float\n",
    "    u = float(action[\"voltage\"])\n",
    "    \n",
    "    # Calculate cost\n",
    "    # Penalize angle error, angular velocity and input voltage\n",
    "    cost = th**2 + 0.1 * thdot**2 + 0.001 * u**2  \n",
    "    \n",
    "    # Determine when is the episode over\n",
    "    # currently just a timeout after 100 steps\n",
    "    done = steps > 100\n",
    "    \n",
    "    # Set info, tell the algorithm the termination was due to a timeout\n",
    "    # (the episode was truncated)\n",
    "    info = {\"TimeLimit.truncated\": steps > 100}\n",
    "    \n",
    "    return obs, -cost, done, info\n",
    "\n",
    "# Initialize Environment\n",
    "env = eagerx.EagerxEnv(name=\"PendulumEnv\", rate=rate, graph=graph, bridge=bridge, step_fn=step_fn)\n",
    "\n",
    "# Toggle render\n",
    "env.render(\"human\")\n",
    "\n",
    "# Stable Baselines3 expects flattened actions & observations\n",
    "# Convert observation and action space from Dict() to Box()\n",
    "env = Flatten(env)\n",
    "\n",
    "# Check that env follows Gym API and returns expected shapes\n",
    "check_env(env)\n",
    "\n",
    "# Initialize learner\n",
    "model = sb.SAC(\"MlpPolicy\", env, verbose=1)\n",
    "\n",
    "# Train for 1 minute (sim time)\n",
    "model.learn(total_timesteps=int(60 * rate))\n",
    "\n",
    "env.shutdown()"
   ]
  },
  {
   "cell_type": "markdown",
   "id": "872df1d1-bed3-4b09-80dd-44c8b71a502d",
   "metadata": {},
   "source": [
    "# Exercises\n",
    "\n",
    "In these exercises you will improve the sample efficiency of the learning problem by modifying the space converter.\n",
    "\n",
    "For these exercises, you will need to modify or add some lines of code in the cells above.\n",
    "These lines are indicated by the following comments:\n",
    "\n",
    "```python\n",
    "# START EXERCISE [BLOCK_NUMBER]\n",
    "\n",
    "# END EXERCISE [BLOCK_NUMBER]\n",
    "```\n",
    "\n",
    "However, feel free to play with the other code as well if you are interested.\n",
    "We recommend you to restart and run all code after each section (in Colab there is the option *Restart and run all* under *Runtime*).\n",
    "\n",
    "\n",
    "## 1. Angle Decomposition\n",
    "\n",
    "In the code as provided above, we reduced the observation space by normalizing $\\theta$.\n",
    "This will improve the sample efficiency, but we can do even better.\n",
    "Normalizing $\\theta$ results in discontinous observations of $\\theta$, i.e. there is a sign switch increasing the angle over $\\pi$ or decreasing the angle smaller than $-\\pi$.\n",
    "Many (reinforcement) learning algorithms have difficulties with such discontinuities.\n",
    "Therefore it is better to choose a representation for $\\theta$ without discontinuities, e.g. its sine and cosine component: $[\\sin(\\theta), \\cos(\\theta)]$.\n",
    "\n",
    "\n",
    "### Add your code to the following blocks: \n",
    "\n",
    "1.1 Instead of the normalized angle, the `B_TO_A` method should return the decomposed angle: $[\\sin(\\theta), \\cos(\\theta)]$.  \n",
    "1.2 The values of `low` and `high` of the Gym space should be updated accordingly.  \n",
    "1.3 The function `step_fn` should be updated as well. Reconstruct $\\theta$, since it is no longer observed directly by the agent.  "
   ]
  }
 ],
 "metadata": {
  "kernelspec": {
   "display_name": "Python 3 (ipykernel)",
   "language": "python",
   "name": "python3"
  },
  "language_info": {
   "codemirror_mode": {
    "name": "ipython",
    "version": 3
   },
   "file_extension": ".py",
   "mimetype": "text/x-python",
   "name": "python",
   "nbconvert_exporter": "python",
   "pygments_lexer": "ipython3",
   "version": "3.8.13"
  }
 },
 "nbformat": 4,
 "nbformat_minor": 5
}
