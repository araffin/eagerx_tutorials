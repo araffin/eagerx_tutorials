{
 "cells": [
  {
   "cell_type": "markdown",
   "id": "ac5c1648-6268-4829-bbaf-53ef779bd1a0",
   "metadata": {},
   "source": [
    "# Tutorial 5: Engine-specific implementation\n",
    "\n",
    "In this tutorial, we will discuss how to add an [engine-specific implementation](https://eagerx.readthedocs.io/en/master/guide/api_reference/object/index.html#eagerx.core.entities.Object.example_bridge)\n",
    "for an object.\n",
    "\n",
    "The following will be covered:\n",
    "- Adding an [engine-specific implementation](https://eagerx.readthedocs.io/en/master/guide/api_reference/object/index.html#eagerx.core.entities.Object.example_bridge)\n",
    "- Initializing the corresponding [bridge](https://eagerx.readthedocs.io/en/master/guide/api_reference/bridge/index.html)\n",
    "- Train with the newly added [engine-specific implementation](https://eagerx.readthedocs.io/en/master/guide/api_reference/object/index.html#eagerx.core.entities.Object.example_bridge)\n",
    "\n",
    "In the remainder of this tutorial we will go more into detail on this concept.\n",
    "\n",
    "Furthermore, at the end of this notebook you will find an exercise.\n",
    "For the exercise you will have to add/modify a couple of lines of code, which are marked by\n",
    "\n",
    "```python\n",
    "\n",
    "# START EXERCISE [BLOCK_NUMBER]\n",
    "\n",
    "# END EXERCISE [BLOCK_NUMBER]\n",
    "```\n",
    "\n",
    "## Pendulum Swing-up\n",
    "\n",
    "We will assume that we already have the object definition of the underactuated pendulum that we used in the [first](https://colab.research.google.com/github/eager-dev/eagerx_tutorials/blob/master/tutorials/pendulum/1_environment_creation.ipynb) tutorial with its dynamics simulated by the ODE bridge and corresponding ordinary differential equations (ODEs).\n",
    "\n",
    "Our goal is to interface the underactuated pendulum we used in the previous tutorials with a different physics-engine. This allows us to investigate the effect of the physics engine on the learned performance. \n",
    "\n",
    "## Notebook Setup\n",
    "\n",
    "In order to be able to run the code, we need to install the *eagerx_tutorials* package and ROS."
   ]
  },
  {
   "cell_type": "code",
   "execution_count": null,
   "id": "ca8b6d03-40d4-4b45-92b2-61ffa09a3249",
   "metadata": {},
   "outputs": [],
   "source": [
    "try:\n",
    "    import eagerx_tutorials\n",
    "except ImportError:\n",
    "    !{\"echo 'Installing eagerx-tutorials with pip.' && pip install eagerx-tutorials  >> /tmp/eagerx_install.txt 2>&1\"}\n",
    "if 'google.colab' in str(get_ipython()):\n",
    "  !{\"curl 'https://raw.githubusercontent.com/eager-dev/eagerx_tutorials/master/scripts/setup_colab.sh' > ~/setup_colab.sh\"}\n",
    "  !{\"bash ~/setup_colab.sh\"}\n",
    "\n",
    "# Setup interactive notebook\n",
    "# Required in interactive notebooks only.\n",
    "from eagerx_tutorials import helper\n",
    "helper.setup_notebook()\n",
    "env = None\n",
    "\n",
    "# Allows reloading of registered entites from changed files\n",
    "# Required in interactive notebooks only.\n",
    "%reload_ext autoreload\n",
    "%autoreload 1"
   ]
  },
  {
   "cell_type": "markdown",
   "id": "320d7676-c74e-4760-932e-4a347d7cfc5c",
   "metadata": {},
   "source": [
    "## Let's get started\n",
    "\n",
    "We start by importing the required packages and initializing EAGERx."
   ]
  },
  {
   "cell_type": "code",
   "execution_count": null,
   "id": "da87b514-cde8-4ff3-968b-718fe1b5c38c",
   "metadata": {},
   "outputs": [],
   "source": [
    "import eagerx\n",
    "import eagerx_tutorials.pendulum  # Registers Pendulum\n",
    "\n",
    "# Initialize eagerx (starts roscore if not already started.)\n",
    "eagerx.initialize(\"eagerx_core\")"
   ]
  },
  {
   "cell_type": "markdown",
   "id": "b1c3b92d-4dac-4808-a2c6-19a0ea65d33e",
   "metadata": {},
   "source": [
    "We will again create an environment with the *Pendulum* object, like we did in the [first](https://colab.research.google.com/github/eager-dev/eagerx_tutorials/blob/master/tutorials/pendulum/1_environment_creation.ipynb) and [second](https://colab.research.google.com/github/eager-dev/eagerx_tutorials/blob/master/tutorials/pendulum/2_reset_and_step.ipynb) tutorials.\n",
    "\n",
    "Let's make the *Pendulum* object and add it to an empty graph."
   ]
  },
  {
   "cell_type": "code",
   "execution_count": null,
   "id": "d9c9f940-0c44-46e6-bde8-081fceafcd0c",
   "metadata": {},
   "outputs": [],
   "source": [
    "# Make the pendulum\n",
    "# START EXERCISE 1.3\n",
    "# Add \"u\" to the sensors.\n",
    "pendulum = eagerx.Object.make(\"Pendulum\", \"pendulum\", actuators=[\"u\"], sensors=[\"theta\", \"dtheta\", \"image\"], states=[\"model_state\"])\n",
    "# ENDXERCISE 1.3\n",
    "\n",
    "# Define rate in Hz\n",
    "rate = 30.0\n",
    "\n",
    "# Initialize empty graph\n",
    "graph = eagerx.Graph.create()\n",
    "\n",
    "# Add pendulum to the graph\n",
    "graph.add(pendulum)\n",
    "\n",
    "# Connect the pendulum to an action and observation\n",
    "graph.connect(action=\"voltage\", target=pendulum.actuators.u)\n",
    "graph.connect(source=pendulum.sensors.theta, observation=\"angle\")\n",
    "graph.connect(source=pendulum.sensors.dtheta, observation=\"angular_velocity\")\n",
    "# START EXERCISE 1.3\n",
    "# Connect sensor u to an observation.\n",
    "# graph.connect(source=pendulum.sensors.u, observation=\"u\")\n",
    "# END EXERCISE 1.3\n",
    "\n",
    "# Render image\n",
    "graph.render(source=pendulum.sensors.image, rate=rate)"
   ]
  },
  {
   "cell_type": "markdown",
   "id": "2305b19f-3e8a-4382-a2c2-145c767d6561",
   "metadata": {},
   "source": [
    "In the preceding tutorials, we simulated the pendulum dynamics with a set of ordinary differential equations (ODE). In other words, the ODEs acted as the physics-engine. However, in robotics we are ultimately interested in how our learned controller performs in the real-world. EAGERx views the real-world as just another physics-engine. Ideally, we would only want to swap-out those components that are specific to the ODE physics-engine with the real-world specific components. In this way, all other (agnostic) components, such as controllers, are exactly the same in both setups, thus minimizing the differences between our real-world experiments and ODE simulation.\n",
    "\n",
    "In EAGERx, this is achieved by grouping the physics-engine specific components of an object into *engine-specific implementations*. The implementation is then registered to the bridge that corresponds to the interfaced physics-engine.\n",
    "\n",
    "Thus, an object in EAGERx will have a **single** agnostic definition of the sensors, actuators, and states, but may have **multiple** *engine-specific implementations* for each physics-engine. This implementation then defines how the sensors, actuators, and states are simulated using a specified bridge that, in turn, corresponds to a physics-engine (e.g. Pybullet, real-world, Gazebo, ...).\n",
    "\n",
    "Lets start by printing info on the pendulum."
   ]
  },
  {
   "cell_type": "code",
   "execution_count": null,
   "id": "e3af76ef-9951-49f7-b92e-5d086bcc0e67",
   "metadata": {},
   "outputs": [],
   "source": [
    "eagerx.Object.info(\"Pendulum\")"
   ]
  },
  {
   "cell_type": "markdown",
   "id": "ca6963b8-a9ec-42b1-9e25-f2c3b0728bd7",
   "metadata": {},
   "source": [
    "The printed info shows, amongst other things, the supported bridges of the *Pendulum*. Currently, only the [OdeBridge](https://github.com/eager-dev/eagerx_ode/blob/master/eagerx_ode/bridge.py) is supported. \n",
    "\n",
    "In the exercise of this tutorial, we will finish the code below. This will add support for a physics-engine that is interfaced by the [GymBridge](https://github.com/eager-dev/eagerx/blob/master/eagerx/bridges/openai_gym/bridge.py). Basically, the physics-engine is the [Pendulum-v1](https://www.gymlibrary.ml/environments/classic_control/pendulum/) environment and it uses the dynamics of the [Pendulum-v1](https://www.gymlibrary.ml/environments/classic_control/pendulum/)  environment to simulate our pendulum.\n",
    "\n",
    "In essence, an *engine-specific* implementation must do the following:\n",
    "- Set any engine-specific parameters that are required by the bridge to add an object to the physics-engine. These correspond to the parameters that have been registered with the [bridge.add_object](https://eagerx.readthedocs.io/en/master/guide/api_reference/bridge/index.html#eagerx.core.entities.Bridge.add_object). In the example below, we need to set the `env_id` to the id of the pendulum environment. You can get info on all the registered parameters (Also called `bridge_config`) with `eagerx.Bridge.info(\"GymBridge\")` under the `add_object` section.\n",
    "- Make [EngineNodes](https://eagerx.readthedocs.io/en/master/guide/api_reference/node/engine_node.html) and connect them in the [EngineGraph](https://eagerx.readthedocs.io/en/master/guide/api_reference/graph/engine_graph.html) to the object's registered sensors and actuators. It is not compulsory to connect all registered sensors and actuators. Hence, you may only implement a subset of them. In this example, we do not connect the registered sensor `u`, which is not a problem as long as we do not select it at run-time.\n",
    "- Make [EngineStates](https://eagerx.readthedocs.io/en/master/guide/api_reference/engine_state/index.html) and set them to the object's registered states. In this example, we use dummy states, because OpenAI gym environments do not have a uniform API to set environment states. See the engine-implementation of the OdeBridge [here](https://github.com/eager-dev/eagerx_tutorials/blob/3ddc2eb7558c7825095611fec3a01a47f5e7af79/eagerx_tutorials/pendulum/objects.py#L108-L168) for a non-trivial example with engine states.\n"
   ]
  },
  {
   "cell_type": "code",
   "execution_count": null,
   "id": "63b41e39-4e06-4415-ae26-5103232504c9",
   "metadata": {},
   "outputs": [],
   "source": [
    "from eagerx import register\n",
    "from eagerx.bridges.openai_gym.bridge import GymBridge\n",
    "import eagerx.bridges.openai_gym  # Register openai engine-specific nodes (ObservationSensor, ActionActuator, GymImage)\n",
    "import eagerx_tutorials.pendulum  # Register tutorial engine-specific nodes (FloatOutput)\n",
    "\n",
    "eagerx.Bridge.info(\"GymBridge\", \"add_object\")\n",
    "\n",
    "# This decorator registers the engine-specific implementation for the entity_id=\"Pendulum\".\n",
    "@register.bridge(\"Pendulum\", GymBridge)  \n",
    "def gym_bridge(spec: eagerx.specs.ObjectSpec, graph: eagerx.EngineGraph):\n",
    "    \"\"\"Engine-specific implementation (GymBridge) of the Pendulum object.\"\"\"\n",
    "    \n",
    "    # Set engine-specific parameters\n",
    "    spec.GymBridge.env_id = \"Pendulum-v1\"\n",
    "    \n",
    "    # Create engine states that implement the registered states\n",
    "    # Note: OpenAI environment do not have a uniform API for setting the API state after a .reset().\n",
    "    #       Therefore, we use a DummyState that simply does nothing (so that it can still be selected, without raising an error).\n",
    "    #       Though, you could create a bridge dedicated to the \"Pendulum-v1\" environment that does allow setting the state.\n",
    "    #       We will not do that here. The same story holds for the dynamic parameters.\n",
    "    spec.GymBridge.states.model_state = eagerx.EngineState.make(\"DummyState\")\n",
    "    spec.GymBridge.states.model_parameters = eagerx.EngineState.make(\"DummyState\")\n",
    "    \n",
    "    # Create sensor engine nodes.\n",
    "    image = eagerx.EngineNode.make(\"GymImage\", \"image\", rate=spec.sensors.image.rate, shape=spec.config.render_shape)\n",
    "    theta = eagerx.EngineNode.make(\"FloatOutput\", \"theta\", rate=spec.sensors.theta.rate, idx=0)\n",
    "    \n",
    "    # Create engine node that implements the dtheta observation\n",
    "    # START EXERCISE 1.1.a\n",
    "    # Create the dtheta EngineNode here\n",
    "    dtheta = eagerx.EngineNode.make(\"FloatOutput\", \"dtheta\", rate=spec.sensors.dtheta.rate, idx=1)\n",
    "    # END EXERCISE 1.1.a\n",
    "\n",
    "    # Create actuator engine node\n",
    "    action = eagerx.EngineNode.make(\"ActionActuator\", \"action\", rate=spec.actuators.u.rate, process=2, color=\"grey\")\n",
    "\n",
    "    # Use the observations produced by the \"Pendulum-v1\" to obtain theta and dtheta.\n",
    "    # Because this observation is [sin(theta), cos(theta), dtheta], so we first convert it to [theta, dtheta]\n",
    "    x = eagerx.EngineNode.make(\"ObservationSensor\", \"x\", rate=spec.sensors.theta.rate, process=2, color=\"grey\")\n",
    "    x.outputs.observation.converter = eagerx.Processor.make(\"Angle_DecomposedAngle\", convert_to=\"theta_dtheta\")\n",
    "    \n",
    "    # Add all engine nodes to the engine-specific graph\n",
    "    graph.add([x, theta, image, action])\n",
    "    \n",
    "    # START EXERCISE 1.1.b\n",
    "    # Add dtheta to graph\n",
    "    graph.add([dtheta])\n",
    "    # END EXERCISE 1.1.b\n",
    "    \n",
    "    # theta\n",
    "    graph.connect(source=x.outputs.observation, target=theta.inputs.observation_array)\n",
    "    graph.connect(source=theta.outputs.observation, sensor=\"theta\")\n",
    "\n",
    "    # dtheta\n",
    "    # START EXERCISE 1.1.c\n",
    "    # Connect dtheta here.\n",
    "    graph.connect(source=x.outputs.observation, target=dtheta.inputs.observation_array)\n",
    "    graph.connect(source=dtheta.outputs.observation, sensor=\"dtheta\")\n",
    "    # END EXERCISE 1.1.c\n",
    "    \n",
    "    # image\n",
    "    graph.connect(source=image.outputs.image, sensor=\"image\")\n",
    "\n",
    "    # u\n",
    "    # Note: not to be confused with sensor \"u\", for which we do not provide an implementation here.\n",
    "    # Note: We add a processor that negates the action, as the torque in OpenAI gym is defined counter-clockwise.\n",
    "    graph.connect(actuator=\"u\", target=action.inputs.action, converter=eagerx.Processor.make(\"Negate_Float32MultiArray\"))"
   ]
  },
  {
   "cell_type": "markdown",
   "id": "6097aae2-5518-41b2-8d13-9b345ef9777f",
   "metadata": {},
   "source": [
    "After defining the engine-specific implementation for the GymBridge and registering it, we again print info on the pendulum. \n",
    "\n",
    "Now we see that the GymBridge **is** supported:"
   ]
  },
  {
   "cell_type": "code",
   "execution_count": null,
   "id": "45898c0e-d261-4153-924f-2233f7b814fc",
   "metadata": {},
   "outputs": [],
   "source": [
    "eagerx.Object.info(\"Pendulum\")"
   ]
  },
  {
   "cell_type": "markdown",
   "id": "bb28cb4b-a564-43c9-98bb-c23259e5369f",
   "metadata": {},
   "source": [
    "We will start by using the OdeBridge similar to the previous tutorials. Later on in the exercises. we will switch and use the [GymBridge](https://github.com/eager-dev/eagerx/blob/master/eagerx/bridges/openai_gym/bridge.py) instead."
   ]
  },
  {
   "cell_type": "code",
   "execution_count": null,
   "id": "b18b5438",
   "metadata": {
    "pycharm": {
     "name": "#%%\n"
    }
   },
   "outputs": [],
   "source": [
    "# Register both bridges\n",
    "import eagerx_ode  # Registers OdeBridge\n",
    "import eagerx.bridges.openai_gym  # Registers GymBridge\n",
    "\n",
    "# Make the bridge\n",
    "# START EXERCISE 1.2 & 1.5\n",
    "#bridge = eagerx.Bridge.make(\"OdeBridge\", rate=rate)\n",
    "bridge = eagerx.Bridge.make(\"GymBridge\", rate=rate, process=eagerx.process.ENVIRONMENT)\n",
    "# END EXERCISE 1.2 & 1.5"
   ]
  },
  {
   "cell_type": "markdown",
   "id": "c78a4dd8-9a01-47fc-bbf8-b24a6e716a8e",
   "metadata": {},
   "source": [
    "At this point, we have created a graph containing the pendulum. We provide the graph to the environment together with the bridge. Based on this bridge, we will initialize the *engine-specific implementation* that was registered with this bridge. \n",
    "- If the [OdeBridge](https://github.com/eager-dev/eagerx_ode) is provided, we use the registered OdeBridge implementation [here](https://github.com/eager-dev/eagerx_tutorials/blob/3ddc2eb7558c7825095611fec3a01a47f5e7af79/eagerx_tutorials/pendulum/objects.py#L108-L168).\n",
    "- If the [GymBridge](https://github.com/eager-dev/eagerx/blob/master/eagerx/bridges/openai_gym/bridge.py) is provided, we will use the registered implementation above.\n",
    "- If we would have an implemention for the real-world and registered it with the [RealBridge](https://github.com/eager-dev/eagerx_reality/blob/m1aster/eagerx_reality/bridge.py), it would be selected when we choose the [RealBridge](https://github.com/eager-dev/eagerx_reality/blob/m1aster/eagerx_reality/bridge.py).\n",
    "\n",
    "Using the [*eagerx_gui* package](https://github.com/eager-dev/eagerx_gui), we can visualize the engine graphs for both bridges with the following commands:\n",
    "\n",
    "\n",
    "```python\n",
    "pendulum.gui(\"OdeBridge\")  # Opens the engine graph of the OdeBridge, shown below\n",
    "```\n",
    "\n",
    "<img src=\"./figures/tutorial_5_ode.svg\" width=\"650\"> \n",
    "\n",
    "```python\n",
    "pendulum.gui(\"GymBridge\")  # Opens the engine graph of the GymBridge, shown below\n",
    "```\n",
    "\n",
    "<img src=\"./figures/tutorial_5_gym.svg\" width=\"650\">"
   ]
  },
  {
   "cell_type": "code",
   "execution_count": null,
   "id": "0d9d2bf3-8a66-4605-a31f-e785e0a17b0b",
   "metadata": {},
   "outputs": [],
   "source": [
    "from typing import Dict\n",
    "import numpy as np\n",
    "\n",
    "# Define step function\n",
    "def step_fn(prev_obs: Dict[str, np.ndarray], obs: Dict[str, np.ndarray], action: Dict[str, np.ndarray], steps: int):\n",
    "    \n",
    "    # Get angle and angular velocity\n",
    "    # Take first element because of window size (covered in other tutorial)\n",
    "    th = obs[\"angle\"][0] \n",
    "        \n",
    "    thdot = obs[\"angular_velocity\"][0]\n",
    "    \n",
    "    # Convert from numpy array to float\n",
    "    u = float(action[\"voltage\"])\n",
    "    \n",
    "    # Calculate cost\n",
    "    # Penalize angle error, angular velocity and input voltage\n",
    "    cost = th**2 + 0.1 * thdot**2 + 0.001 * u**2  \n",
    "    \n",
    "    # Determine when is the episode over\n",
    "    # currently just a timeout after 100 steps\n",
    "    done = steps > 100\n",
    "    \n",
    "    # Set info, tell the algorithm the termination was due to a timeout\n",
    "    # (the episode was truncated)\n",
    "    info = {\"TimeLimit.truncated\": steps > 100}\n",
    "    \n",
    "    return obs, -cost, done, info\n",
    "\n",
    "# Initialize Environment\n",
    "env = eagerx.EagerxEnv(name=\"PendulumEnv\", rate=rate, graph=graph, bridge=bridge, step_fn=step_fn)"
   ]
  },
  {
   "cell_type": "markdown",
   "id": "8247297a-b0b2-4074-ab71-b86d29819606",
   "metadata": {},
   "source": [
    "Finally, we train the agent using [Stable Baselines3](https://stable-baselines3.readthedocs.io/en/master/), again similar to the preceding tutorials."
   ]
  },
  {
   "cell_type": "code",
   "execution_count": null,
   "id": "cb6051ef-ce35-4eea-95e2-a96d1f68bde2",
   "metadata": {},
   "outputs": [],
   "source": [
    "import stable_baselines3 as sb\n",
    "from stable_baselines3.common.env_checker import check_env\n",
    "from eagerx.wrappers import Flatten\n",
    "\n",
    "# Toggle render\n",
    "env.render(\"human\")\n",
    "\n",
    "# Stable Baselines3 expects flattened actions & observations\n",
    "# Convert observation and action space from Dict() to Box()\n",
    "env = Flatten(env)\n",
    "\n",
    "# Check that env follows Gym API and returns expected shapes\n",
    "check_env(env)\n",
    "\n",
    "# Initialize learner\n",
    "model = sb.SAC(\"MlpPolicy\", env, verbose=1)\n",
    "\n",
    "# Train for 1 minute (sim time)\n",
    "model.learn(total_timesteps=int(60 * rate))\n",
    "\n",
    "env.shutdown()"
   ]
  },
  {
   "cell_type": "markdown",
   "id": "872df1d1-bed3-4b09-80dd-44c8b71a502d",
   "metadata": {},
   "source": [
    "# Exercise\n",
    "\n",
    "In this exercise you will add a new engine-specific implementation to the object definition of the underactuated pendulum.\n",
    "\n",
    "For this exercise, you will need to modify or add some lines of code in the cells above.\n",
    "These lines are indicated by the following comments:\n",
    "\n",
    "```python\n",
    "# START EXERCISE [BLOCK_NUMBER]\n",
    "\n",
    "# END EXERCISE [BLOCK_NUMBER]\n",
    "```\n",
    "\n",
    "However, feel free to play with the other code as well if you are interested.\n",
    "We recommend you to restart and run all code after each section (in Colab there is the option *Restart and run all* under *Runtime*).\n",
    "\n",
    "## 1. Add support for a new physics-engine\n",
    "Up until now, we have simulated the pendulum dynamics with the *engine-specific* implementation [here](https://github.com/eager-dev/eagerx_tutorials/blob/3ddc2eb7558c7825095611fec3a01a47f5e7af79/eagerx_tutorials/pendulum/objects.py#L108-L168) that was registered with the [OdeBridge](https://github.com/eager-dev/eagerx_ode).\n",
    "\n",
    "Most informative would be an exercise where we interface a real pendulum. Unfortunately, interactive notebooks do not allow us to easily demonstrate this without forcing users to have the exact same real pendulum we have in our lab. Therefore, we will instead add an implementation for the already defined OpenAI's [GymBridge](https://github.com/eager-dev/eagerx/blob/master/eagerx/bridges/openai_gym/bridge.py). We created [GymBridge](https://github.com/eager-dev/eagerx/blob/master/eagerx/bridges/openai_gym/bridge.py) so that any [OpenAI environment](https://gym.openai.com/envs/#classic_control) could be used as the physics-engine. In this exercise we will use the dynamics of the [Pendulum-v1](https://gym.openai.com/envs/Pendulum-v0/) environment to simulate our pendulum. For this, we will make use of the already defined engine nodes [here](https://github.com/eager-dev/eagerx/blob/master/eagerx/bridges/openai_gym/enginenodes.py).\n",
    "\n",
    "Given that you've already created the engine nodes to interface the real pendulum, you can easily add an implementation for the [RealBridge](https://github.com/eager-dev/eagerx_reality/blob/m1aster/eagerx_reality/bridge.py) to train with a real pendulum following the same steps. Creating [engine nodes](https://eagerx.readthedocs.io/en/master/guide/api_reference/node/engine_node.html) is very similar to creating regular nodes which was already covered in [tutorial 4](https://colab.research.google.com/github/eager-dev/eagerx_tutorials/blob/master/tutorials/pendulum/4_nodes.ipynb). \n",
    "\n",
    "### Add your code to the following blocks: \n",
    "\n",
    "1.1.a Make an `EngineNode` that will be `dtheta`. Use `entity_id=FloatOutput` and set `idx=1`. *(hint: look at the code for `theta`).*  \n",
    "1.1.b Add EngineNode `dtheta` to the engine graph. *(hint: look at the code for `theta`).*  \n",
    "1.1.c Connect `dtheta` to the corresponding sensor with `sensor=dtheta`. *(hint: look at the code for `theta`).*  \n",
    "1.2 Select the GymBridge by uncommenting the marked line. Run the code *(note: you may need to restart your kernel)*.  \n",
    "1.3 Now, select sensor `u` (not to be mistaken with the actuator `u`!!) for the pendulum and connect it as an `observation`. Run the code and observe that it fails. As the error states, we did not provide an implementation for sensor `u`. This highlights that it is not compulsory to implement every actuator, sensor, or state that was defined by the object. You are free to only support a subset of them. However, you **will** get an error if you try to run with one that does not have an *engine-specific* implementation for the selected bridge.  \n",
    "1.4 Switch back to using the OdeBridge (while still selecting sensor `u`). Run the code. It should again run without problems, as the OdeBridge **does** have an implementation for the sensor `u`.  \n"
   ]
  }
 ],
 "metadata": {
  "kernelspec": {
   "display_name": "Python 3 (ipykernel)",
   "language": "python",
   "name": "python3"
  },
  "language_info": {
   "codemirror_mode": {
    "name": "ipython",
    "version": 3
   },
   "file_extension": ".py",
   "mimetype": "text/x-python",
   "name": "python",
   "nbconvert_exporter": "python",
   "pygments_lexer": "ipython3",
   "version": "3.8.13"
  }
 },
 "nbformat": 4,
 "nbformat_minor": 5
}
